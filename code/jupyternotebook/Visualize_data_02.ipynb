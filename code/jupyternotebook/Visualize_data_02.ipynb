{
 "cells": [
  {
   "cell_type": "code",
   "execution_count": 1,
   "metadata": {},
   "outputs": [],
   "source": [
    "#Goal:\n",
    "#1. Data Presentation - what is an effectve and accurate method to represent data\n",
    "#2. Comparison and analysis of effective action to terminate spread of virus\n",
    "#3. 3rd factor deaths of quarantine (suicide, etc.)\n",
    "#4. Route and the speed of the corona virus spread\n",
    "#5. timeline of news https://matplotlib.org/3.1.3/gallery/lines_bars_and_markers/timeline.html\n",
    "# Number of deaths by covid (percent)"
   ]
  },
  {
   "cell_type": "code",
   "execution_count": 2,
   "metadata": {},
   "outputs": [],
   "source": [
    "#comparison for number of deaths (years)"
   ]
  },
  {
   "cell_type": "code",
   "execution_count": 3,
   "metadata": {},
   "outputs": [],
   "source": [
    "import sys\n",
    "sys.path.append('../../myenv/lib/python3.7/site-packages')"
   ]
  },
  {
   "cell_type": "code",
   "execution_count": 4,
   "metadata": {},
   "outputs": [],
   "source": [
    "from japanmap import pref_names\n",
    "from japanmap import pref_code\n",
    "from japanmap import groups\n",
    "from japanmap import picture\n",
    "import matplotlib.dates as mdates\n",
    "import ipywidgets as widgets\n",
    "import pandas as pd\n",
    "import numpy as np\n",
    "import datetime\n",
    "import matplotlib.pyplot as plt\n",
    "%config InlineBackend.figure_formats = {'png', 'retina'}\n",
    "%matplotlib inline"
   ]
  },
  {
   "cell_type": "code",
   "execution_count": 5,
   "metadata": {},
   "outputs": [],
   "source": [
    "path = '../../data/transformed/pcr_pop_corona_jp_v0.1.csv'\n",
    "df = pd.read_csv(path, header=0)\n",
    "df = df.rename(columns={\"Unnamed: 0\": \"pref\"})\n",
    "df['cov_pop'] = df['Positive'] / df['population']\n",
    "df = df.set_index('pref')"
   ]
  },
  {
   "cell_type": "code",
   "execution_count": 6,
   "metadata": {},
   "outputs": [
    {
     "name": "stdout",
     "output_type": "stream",
     "text": [
      "陽性者数:196,608\n",
      "検査人数:3,999,511\n"
     ]
    }
   ],
   "source": [
    "# 国内 感染確認数\n",
    "Total = df['Positive'].sum()\n",
    "print('陽性者数:{:,}'.format(int(Total)))\n",
    "tested = df['Tested'].sum()\n",
    "print('検査人数:{:,}'.format(int(tested)))"
   ]
  },
  {
   "cell_type": "code",
   "execution_count": 7,
   "metadata": {},
   "outputs": [],
   "source": [
    "def map_covid(df, col_name):\n",
    "    cmap = plt.get_cmap('Reds')\n",
    "    norm = plt.Normalize(vmin=df[col_name].min(), vmax=df[col_name].max())\n",
    "    fcol = lambda x: '#' + bytes(cmap(norm(x), bytes=True)[:3]).hex()\n",
    "    plt.colorbar(plt.cm.ScalarMappable(norm, cmap))\n",
    "    plt.imshow(picture(df[col_name].apply(fcol)))\n",
    "    plt.show()"
   ]
  },
  {
   "cell_type": "code",
   "execution_count": 8,
   "metadata": {},
   "outputs": [],
   "source": [
    "def bar_chart(df, col_name):\n",
    "    dates = df['date'].tolist()\n",
    "    x_values = [datetime.datetime.strptime(d,'%Y-%m-%d').date() for d in dates]\n",
    "    y_values = df[col_name].diff()\n",
    "\n",
    "    fig, ax = plt.subplots(figsize=(10, 5))\n",
    "    #auto-rotate date labels on the x-axis\n",
    "    xticks = x_values[::15]\n",
    "    ax.set_xticks(xticks)\n",
    "    ax.set_xticklabels(xticks, rotation=60)\n",
    "\n",
    "    ###plot values\n",
    "    #format as dates\n",
    "    ax.xaxis.set_major_formatter(mdates.DateFormatter('%b-%d'))\n",
    "    #dates\n",
    "    ax.set_xlabel('Dates: year 2020')\n",
    "    ax.set_ylabel('Number of Infected People')\n",
    "    ax.set_title('Active Cases')\n",
    "    ax.bar(x_values, y_values)\n",
    "    plt.show()"
   ]
  },
  {
   "cell_type": "code",
   "execution_count": 9,
   "metadata": {},
   "outputs": [],
   "source": [
    "def tab_charts(list_graph_nms, graph_type, df):\n",
    "    children = [widgets.Output() for i in range(len(list_graph_nms))]\n",
    "    tab = widgets.Tab(children = children)\n",
    "    for i, title in enumerate(list_graph_nms):\n",
    "        tab.set_title(i, title)\n",
    "        with children[i]:\n",
    "            graph_type(df, title)\n",
    "    \n",
    "    display(tab)"
   ]
  },
  {
   "cell_type": "code",
   "execution_count": 10,
   "metadata": {},
   "outputs": [
    {
     "data": {
      "text/plain": [
       "Index(['Positive', 'Tested', 'Percent', 'population', 'area', 'popDensity',\n",
       "       'cov_pop'],\n",
       "      dtype='object')"
      ]
     },
     "execution_count": 10,
     "metadata": {},
     "output_type": "execute_result"
    }
   ],
   "source": [
    "df.columns"
   ]
  },
  {
   "cell_type": "code",
   "execution_count": 11,
   "metadata": {},
   "outputs": [
    {
     "data": {
      "application/vnd.jupyter.widget-view+json": {
       "model_id": "9f690243c897414182f99c971f857b60",
       "version_major": 2,
       "version_minor": 0
      },
      "text/plain": [
       "Tab(children=(Output(), Output(), Output()), _titles={'0': 'popDensity', '1': 'cov_pop', '2': 'Percent'})"
      ]
     },
     "metadata": {},
     "output_type": "display_data"
    }
   ],
   "source": [
    "tab_charts(['popDensity','cov_pop', 'Percent'], map_covid, df)"
   ]
  },
  {
   "cell_type": "code",
   "execution_count": 12,
   "metadata": {},
   "outputs": [
    {
     "data": {
      "text/html": [
       "<div>\n",
       "<style scoped>\n",
       "    .dataframe tbody tr th:only-of-type {\n",
       "        vertical-align: middle;\n",
       "    }\n",
       "\n",
       "    .dataframe tbody tr th {\n",
       "        vertical-align: top;\n",
       "    }\n",
       "\n",
       "    .dataframe thead th {\n",
       "        text-align: right;\n",
       "    }\n",
       "</style>\n",
       "<table border=\"1\" class=\"dataframe\">\n",
       "  <thead>\n",
       "    <tr style=\"text-align: right;\">\n",
       "      <th></th>\n",
       "      <th>Positive</th>\n",
       "      <th>Tested</th>\n",
       "      <th>Percent</th>\n",
       "      <th>population</th>\n",
       "      <th>area</th>\n",
       "      <th>popDensity</th>\n",
       "      <th>cov_pop</th>\n",
       "    </tr>\n",
       "    <tr>\n",
       "      <th>pref</th>\n",
       "      <th></th>\n",
       "      <th></th>\n",
       "      <th></th>\n",
       "      <th></th>\n",
       "      <th></th>\n",
       "      <th></th>\n",
       "      <th></th>\n",
       "    </tr>\n",
       "  </thead>\n",
       "  <tbody>\n",
       "    <tr>\n",
       "      <th>東京都</th>\n",
       "      <td>51446.0</td>\n",
       "      <td>901556.0</td>\n",
       "      <td>5.71</td>\n",
       "      <td>13971109.0</td>\n",
       "      <td>2194.07</td>\n",
       "      <td>6367.67</td>\n",
       "      <td>0.003682</td>\n",
       "    </tr>\n",
       "    <tr>\n",
       "      <th>大阪府</th>\n",
       "      <td>27037.0</td>\n",
       "      <td>412580.0</td>\n",
       "      <td>6.55</td>\n",
       "      <td>8817372.0</td>\n",
       "      <td>1905.32</td>\n",
       "      <td>4627.76</td>\n",
       "      <td>0.003066</td>\n",
       "    </tr>\n",
       "    <tr>\n",
       "      <th>神奈川県</th>\n",
       "      <td>16852.0</td>\n",
       "      <td>311376.0</td>\n",
       "      <td>5.41</td>\n",
       "      <td>9214151.0</td>\n",
       "      <td>2416.32</td>\n",
       "      <td>3813.30</td>\n",
       "      <td>0.001829</td>\n",
       "    </tr>\n",
       "    <tr>\n",
       "      <th>埼玉県</th>\n",
       "      <td>11675.0</td>\n",
       "      <td>281001.0</td>\n",
       "      <td>4.15</td>\n",
       "      <td>7343453.0</td>\n",
       "      <td>3797.75</td>\n",
       "      <td>1933.63</td>\n",
       "      <td>0.001590</td>\n",
       "    </tr>\n",
       "    <tr>\n",
       "      <th>愛知県</th>\n",
       "      <td>13967.0</td>\n",
       "      <td>170726.0</td>\n",
       "      <td>8.18</td>\n",
       "      <td>7541123.0</td>\n",
       "      <td>5173.07</td>\n",
       "      <td>1457.77</td>\n",
       "      <td>0.001852</td>\n",
       "    </tr>\n",
       "  </tbody>\n",
       "</table>\n",
       "</div>"
      ],
      "text/plain": [
       "      Positive    Tested  Percent  population     area  popDensity   cov_pop\n",
       "pref                                                                        \n",
       "東京都    51446.0  901556.0     5.71  13971109.0  2194.07     6367.67  0.003682\n",
       "大阪府    27037.0  412580.0     6.55   8817372.0  1905.32     4627.76  0.003066\n",
       "神奈川県   16852.0  311376.0     5.41   9214151.0  2416.32     3813.30  0.001829\n",
       "埼玉県    11675.0  281001.0     4.15   7343453.0  3797.75     1933.63  0.001590\n",
       "愛知県    13967.0  170726.0     8.18   7541123.0  5173.07     1457.77  0.001852"
      ]
     },
     "execution_count": 12,
     "metadata": {},
     "output_type": "execute_result"
    }
   ],
   "source": [
    "df.sort_values(by=['popDensity'], ascending=False).head()"
   ]
  },
  {
   "cell_type": "code",
   "execution_count": 13,
   "metadata": {},
   "outputs": [],
   "source": [
    "path = '../../data/transformed/corona_bytime_jp_updated.csv'\n",
    "df_bar = pd.read_csv(path, header=0)\n",
    "df_bar = df_bar.drop(df_bar.columns[0], axis=1)\n",
    "df_bar['合計'] = df_bar.sum(axis=1)\n",
    "# df_bar['差'] = df_bar['合計'].diff()"
   ]
  },
  {
   "cell_type": "code",
   "execution_count": 14,
   "metadata": {},
   "outputs": [],
   "source": [
    "# df_bar[(df_bar['差'] < 0)]"
   ]
  },
  {
   "cell_type": "code",
   "execution_count": 15,
   "metadata": {},
   "outputs": [
    {
     "data": {
      "application/vnd.jupyter.widget-view+json": {
       "model_id": "5f50f94f48a04f109b4cf45a30a260d0",
       "version_major": 2,
       "version_minor": 0
      },
      "text/plain": [
       "Tab(children=(Output(), Output(), Output()), _titles={'0': '東京都', '1': '静岡県', '2': '兵庫県'})"
      ]
     },
     "metadata": {},
     "output_type": "display_data"
    }
   ],
   "source": [
    "tab_charts(['東京都','静岡県','兵庫県'], bar_chart, df_bar)"
   ]
  },
  {
   "cell_type": "code",
   "execution_count": 23,
   "metadata": {},
   "outputs": [],
   "source": [
    "path = '../../data/transformed/corona_bytime_jp_tested.csv'\n",
    "df_tested = pd.read_csv(path, header=0)\n",
    "df_tested = df_tested.drop(df_tested.columns[0], axis=1)"
   ]
  },
  {
   "cell_type": "code",
   "execution_count": 25,
   "metadata": {},
   "outputs": [
    {
     "data": {
      "application/vnd.jupyter.widget-view+json": {
       "model_id": "288df36301d341c49e4216351237ef8f",
       "version_major": 2,
       "version_minor": 0
      },
      "text/plain": [
       "Tab(children=(Output(), Output(), Output()), _titles={'0': '東京都', '1': '静岡県', '2': '兵庫県'})"
      ]
     },
     "metadata": {},
     "output_type": "display_data"
    }
   ],
   "source": [
    "tab_charts(['東京都','静岡県','兵庫県'], bar_chart, df_tested)"
   ]
  },
  {
   "cell_type": "code",
   "execution_count": null,
   "metadata": {},
   "outputs": [],
   "source": []
  }
 ],
 "metadata": {
  "kernelspec": {
   "display_name": "Python 3",
   "language": "python",
   "name": "python3"
  },
  "language_info": {
   "codemirror_mode": {
    "name": "ipython",
    "version": 3
   },
   "file_extension": ".py",
   "mimetype": "text/x-python",
   "name": "python",
   "nbconvert_exporter": "python",
   "pygments_lexer": "ipython3",
   "version": "3.7.6"
  }
 },
 "nbformat": 4,
 "nbformat_minor": 4
}
